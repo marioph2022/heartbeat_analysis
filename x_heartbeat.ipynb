{
 "cells": [
  {
   "cell_type": "code",
   "execution_count": 264,
   "metadata": {},
   "outputs": [
    {
     "name": "stdout",
     "output_type": "stream",
     "text": [
      "Libraries have been imported\n"
     ]
    }
   ],
   "source": [
    "#-------------------------------------------------------------\n",
    "# Import libraries to detect anomalies of simulated heartbeats\n",
    "#-------------------------------------------------------------\n",
    "import pandas as pd\n",
    "import numpy as np\n",
    "import matplotlib.pyplot as plt \n",
    "\n",
    "from gtda.time_series import SlidingWindow\n",
    "from gtda.time_series import TakensEmbedding\n",
    "\n",
    "from gtda.homology import VietorisRipsPersistence\n",
    "\n",
    "import neurokit2 as nk\n",
    "print('Libraries have been imported')"
   ]
  },
  {
   "cell_type": "code",
   "execution_count": 251,
   "metadata": {},
   "outputs": [],
   "source": [
    "#---------------------------------------------------------------------\n",
    "# Simulate 30 seconds of ECG Signal (recorded at 250 samples / second)\n",
    "#---------------------------------------------------------------------\n",
    "ecg_signal = nk.ecg_simulate(duration=30, sampling_rate=250)"
   ]
  },
  {
   "cell_type": "code",
   "execution_count": 252,
   "metadata": {},
   "outputs": [],
   "source": [
    "# ----------------------------------------------------------------------\n",
    "# Automatically process the (raw) ECG signal\n",
    "# signals is a dataframe that contains the description of the heartbeats\n",
    "#  and the column with the hb signal is \"ECG_Clean\"\n",
    "# info is a dict with the highest value of the signals\n",
    "# ------------------------------------------\n",
    "signals, info = nk.ecg_process(ecg_signal, sampling_rate=250)"
   ]
  },
  {
   "cell_type": "code",
   "execution_count": 253,
   "metadata": {},
   "outputs": [
    {
     "name": "stdout",
     "output_type": "stream",
     "text": [
      "{'ECG_R_Peaks': array([ 213,  430,  647,  862, 1075, 1289, 1502, 1713, 1925, 2139, 2354,\n",
      "       2569, 2788, 3007, 3222, 3433, 3645, 3859, 4072, 4281, 4492, 4709,\n",
      "       4929, 5146, 5357, 5572, 5790, 6007, 6216, 6424, 6638, 6857, 7072,\n",
      "       7283]), 'sampling_rate': 250}\n"
     ]
    },
    {
     "data": {
      "text/html": [
       "<div>\n",
       "<style scoped>\n",
       "    .dataframe tbody tr th:only-of-type {\n",
       "        vertical-align: middle;\n",
       "    }\n",
       "\n",
       "    .dataframe tbody tr th {\n",
       "        vertical-align: top;\n",
       "    }\n",
       "\n",
       "    .dataframe thead th {\n",
       "        text-align: right;\n",
       "    }\n",
       "</style>\n",
       "<table border=\"1\" class=\"dataframe\">\n",
       "  <thead>\n",
       "    <tr style=\"text-align: right;\">\n",
       "      <th></th>\n",
       "      <th>ECG_Raw</th>\n",
       "      <th>ECG_Clean</th>\n",
       "      <th>ECG_Rate</th>\n",
       "      <th>ECG_Quality</th>\n",
       "      <th>ECG_R_Peaks</th>\n",
       "      <th>ECG_P_Peaks</th>\n",
       "      <th>ECG_P_Onsets</th>\n",
       "      <th>ECG_P_Offsets</th>\n",
       "      <th>ECG_Q_Peaks</th>\n",
       "      <th>ECG_R_Onsets</th>\n",
       "      <th>ECG_R_Offsets</th>\n",
       "      <th>ECG_S_Peaks</th>\n",
       "      <th>ECG_T_Peaks</th>\n",
       "      <th>ECG_T_Onsets</th>\n",
       "      <th>ECG_T_Offsets</th>\n",
       "      <th>ECG_Phase_Atrial</th>\n",
       "      <th>ECG_Phase_Completion_Atrial</th>\n",
       "      <th>ECG_Phase_Ventricular</th>\n",
       "      <th>ECG_Phase_Completion_Ventricular</th>\n",
       "    </tr>\n",
       "  </thead>\n",
       "  <tbody>\n",
       "    <tr>\n",
       "      <th>0</th>\n",
       "      <td>1.093117</td>\n",
       "      <td>-0.070698</td>\n",
       "      <td>70.014144</td>\n",
       "      <td>0.0</td>\n",
       "      <td>0</td>\n",
       "      <td>0</td>\n",
       "      <td>0</td>\n",
       "      <td>0</td>\n",
       "      <td>0</td>\n",
       "      <td>0</td>\n",
       "      <td>0</td>\n",
       "      <td>0</td>\n",
       "      <td>0</td>\n",
       "      <td>0</td>\n",
       "      <td>0</td>\n",
       "      <td>NaN</td>\n",
       "      <td>0.0</td>\n",
       "      <td>NaN</td>\n",
       "      <td>0.0</td>\n",
       "    </tr>\n",
       "    <tr>\n",
       "      <th>1</th>\n",
       "      <td>1.039192</td>\n",
       "      <td>-0.196853</td>\n",
       "      <td>70.014144</td>\n",
       "      <td>0.0</td>\n",
       "      <td>0</td>\n",
       "      <td>0</td>\n",
       "      <td>0</td>\n",
       "      <td>0</td>\n",
       "      <td>0</td>\n",
       "      <td>0</td>\n",
       "      <td>0</td>\n",
       "      <td>0</td>\n",
       "      <td>0</td>\n",
       "      <td>0</td>\n",
       "      <td>0</td>\n",
       "      <td>NaN</td>\n",
       "      <td>0.0</td>\n",
       "      <td>NaN</td>\n",
       "      <td>0.0</td>\n",
       "    </tr>\n",
       "  </tbody>\n",
       "</table>\n",
       "</div>"
      ],
      "text/plain": [
       "    ECG_Raw  ECG_Clean   ECG_Rate  ECG_Quality  ECG_R_Peaks  ECG_P_Peaks  \\\n",
       "0  1.093117  -0.070698  70.014144          0.0            0            0   \n",
       "1  1.039192  -0.196853  70.014144          0.0            0            0   \n",
       "\n",
       "   ECG_P_Onsets  ECG_P_Offsets  ECG_Q_Peaks  ECG_R_Onsets  ECG_R_Offsets  \\\n",
       "0             0              0            0             0              0   \n",
       "1             0              0            0             0              0   \n",
       "\n",
       "   ECG_S_Peaks  ECG_T_Peaks  ECG_T_Onsets  ECG_T_Offsets  ECG_Phase_Atrial  \\\n",
       "0            0            0             0              0               NaN   \n",
       "1            0            0             0              0               NaN   \n",
       "\n",
       "   ECG_Phase_Completion_Atrial  ECG_Phase_Ventricular  \\\n",
       "0                          0.0                    NaN   \n",
       "1                          0.0                    NaN   \n",
       "\n",
       "   ECG_Phase_Completion_Ventricular  \n",
       "0                               0.0  \n",
       "1                               0.0  "
      ]
     },
     "execution_count": 253,
     "metadata": {},
     "output_type": "execute_result"
    }
   ],
   "source": [
    "# ------------\n",
    "# Display data\n",
    "# ------------\n",
    "print(info)\n",
    "signals.head(2)"
   ]
  },
  {
   "cell_type": "code",
   "execution_count": 254,
   "metadata": {},
   "outputs": [
    {
     "data": {
      "image/png": "[encoded data removed]",
      "text/plain": [
       "<Figure size 2160x432 with 1 Axes>"
      ]
     },
     "metadata": {
      "needs_background": "light"
     },
     "output_type": "display_data"
    }
   ],
   "source": [
    "# -----------------------------------------------------------------------------------\n",
    "# Get part of the heartbeats to compare their signal\n",
    "# (it seems that simulator generates an incorrect hb at the begginning of the signal)\n",
    "# -----------------------------------------------------------------------------------\n",
    "plt.rcParams['figure.figsize'] = [30, 6]    # Set size somehow big to plot various heartbeats\n",
    "plt.title('Synthetic Hearbeat Data')\n",
    "plt.ylabel('Heartbeat Signal')\n",
    "plt.xlabel('Number of Heartbeats')\n",
    "x_axis = np.linspace(0, 10, 4500)\n",
    "y_axis = signals[\"ECG_Clean\"][500:5000].values\n",
    "first_hb_loc = info['ECG_R_Peaks'][2] - 500\n",
    "plt.plot(x_axis[first_hb_loc], y_axis[first_hb_loc], color='red', marker='o', markersize=10)\n",
    "_ = plt.plot(x_axis, y_axis)"
   ]
  },
  {
   "cell_type": "code",
   "execution_count": 255,
   "metadata": {},
   "outputs": [
    {
     "data": {
      "text/plain": [
       "214.1"
      ]
     },
     "execution_count": 255,
     "metadata": {},
     "output_type": "execute_result"
    }
   ],
   "source": [
    "# ------------------------------------------------------------------------------------------\n",
    "# Compute the difference between hearbeat peaks to average and define the length of a window\n",
    "# ------------------------------------------------------------------------------------------\n",
    "dif_lst = []\n",
    "for idx in range(len(info['ECG_R_Peaks']) - 1):\n",
    "    if info['ECG_R_Peaks'][idx] > 499 and info['ECG_R_Peaks'][idx + 1] < 5000:\n",
    "        #print(info['ECG_R_Peaks'][idx], info['ECG_R_Peaks'][idx + 1], info['ECG_R_Peaks'][idx + 1] - info['ECG_R_Peaks'][idx])\n",
    "        dif_lst.append(info['ECG_R_Peaks'][idx + 1] - info['ECG_R_Peaks'][idx])\n",
    "#print(len(dif_lst))\n",
    "np.average(dif_lst)\n"
   ]
  },
  {
   "cell_type": "code",
   "execution_count": 256,
   "metadata": {},
   "outputs": [],
   "source": [
    "# --------------------------------------------------------\n",
    "# Set the parameters used during anomaly detection process\n",
    "# --------------------------------------------------------\n",
    "window_size = int(np.average(dif_lst))\n",
    "stride = window_size\n",
    "time_delay = 1\n",
    "dimension = 2\n",
    "\n",
    "nbr_of_jobs = 8\n",
    "bottom_title = \"Number of Hearbeats Compared\"\n",
    "\n",
    "metric_lst = ['landscape', 'betti', 'silhouette', 'wasserstein', 'bottleneck', 'heat']"
   ]
  },
  {
   "cell_type": "code",
   "execution_count": 257,
   "metadata": {},
   "outputs": [],
   "source": [
    "X = signals[\"ECG_Clean\"][500:5000]\n",
    "y = signals[\"ECG_Clean\"][500:5000]"
   ]
  },
  {
   "cell_type": "code",
   "execution_count": 258,
   "metadata": {},
   "outputs": [
    {
     "name": "stdout",
     "output_type": "stream",
     "text": [
      "Time series values: (21, 214) Target: (21,)\n"
     ]
    }
   ],
   "source": [
    "# -------------------------------------------------------------------------\n",
    "# Create sliding windows and size them as the number of measures in one day\n",
    "# -------------------------------------------------------------------------\n",
    "SW = SlidingWindow(size=window_size, stride=stride)\n",
    "X_sw, y_sw = SW.fit_transform_resample(X, y)\n",
    "print('Time series values:', X_sw.shape, 'Target:', y_sw.shape)"
   ]
  },
  {
   "cell_type": "code",
   "execution_count": 259,
   "metadata": {},
   "outputs": [
    {
     "data": {
      "text/plain": [
       "(21, 213, 2)"
      ]
     },
     "execution_count": 259,
     "metadata": {},
     "output_type": "execute_result"
    }
   ],
   "source": [
    "# ------------------------------------------\n",
    "# Define the takens embedding of dimension 2\n",
    "# ------------------------------------------\n",
    "TE = TakensEmbedding(time_delay=time_delay, dimension=dimension)\n",
    "X_te = TE.fit_transform(X_sw)\n",
    "X_te.shape"
   ]
  },
  {
   "cell_type": "code",
   "execution_count": 260,
   "metadata": {},
   "outputs": [
    {
     "data": {
      "text/plain": [
       "(21, 260, 3)"
      ]
     },
     "execution_count": 260,
     "metadata": {},
     "output_type": "execute_result"
    }
   ],
   "source": [
    "#----------------------------------------------------\n",
    "# Extract topological features of the te data\n",
    "#----------------------------------------------------\n",
    "from gtda.homology import VietorisRipsPersistence\n",
    "VR = VietorisRipsPersistence(homology_dimensions=[0, 1], n_jobs=nbr_of_jobs)  # Parameter explained in the text\n",
    "diagrams = VR.fit_transform(X_te)\n",
    "diagrams.shape"
   ]
  },
  {
   "cell_type": "code",
   "execution_count": 261,
   "metadata": {},
   "outputs": [
    {
     "data": {
      "application/vnd.plotly.v1+json": {
       "config": {
        "plotlyServerURL": "https://plot.ly"
       },
       "data": [
        {
         "hoverinfo": "none",
         "line": {
          "color": "black",
          "dash": "dash",
          "width": 1
         },
         "mode": "lines",
         "showlegend": false,
         "type": "scatter",
         "x": [
          -0.006391806602478027,
          0.3259821367263794
         ],
         "y": [
          -0.006391806602478027,
          0.3259821367263794
         ]
        },
        {
         "hoverinfo": "text",
         "hovertext": [
          "(0.0, 0.00014905454008840024)",
          "(0.0, 0.00022581423399969935)",
          "(0.0, 0.0003899969451595098)",
          "(0.0, 0.0004176847287453711)",
          "(0.0, 0.0005877817166037858)",
          "(0.0, 0.0007243042928166687)",
          "(0.0, 0.0007285982137545943)",
          "(0.0, 0.0008418102515861392)",
          "(0.0, 0.0009305367711931467)",
          "(0.0, 0.0009617444593459368)",
          "(0.0, 0.0009618193726055324)",
          "(0.0, 0.0009709913283586502)",
          "(0.0, 0.0009732152684591711)",
          "(0.0, 0.0009875629330053926)",
          "(0.0, 0.0009979312308132648)",
          "(0.0, 0.0009982886258512735)",
          "(0.0, 0.0010094658937305212)",
          "(0.0, 0.0010347103234380484)",
          "(0.0, 0.0010379638988524675)",
          "(0.0, 0.0010487409308552742)",
          "(0.0, 0.001061307149939239)",
          "(0.0, 0.0010855771834030747)",
          "(0.0, 0.0010872556595131755)",
          "(0.0, 0.0010918914340436459)",
          "(0.0, 0.001095304382033646)",
          "(0.0, 0.0011105032172054052)",
          "(0.0, 0.0011120203416794538)",
          "(0.0, 0.0011292229173704982)",
          "(0.0, 0.0011304791551083326)",
          "(0.0, 0.0011421730741858482)",
          "(0.0, 0.001142504857853055)",
          "(0.0, 0.0011486811563372612)",
          "(0.0, 0.0011487026931717992)",
          "(0.0, 0.0011719379108399153)",
          "(0.0, 0.001269637024961412)",
          "(0.0, 0.0013809386873617768)",
          "(0.0, 0.0013897801982238889)",
          "(0.0, 0.001535989111289382)",
          "(0.0, 0.001573079265654087)",
          "(0.0, 0.001664528506807983)",
          "(0.0, 0.0017025151755660772)",
          "(0.0, 0.0017167811747640371)",
          "(0.0, 0.0019133726600557566)",
          "(0.0, 0.001945669879205525)",
          "(0.0, 0.0020975740626454353)",
          "(0.0, 0.0022413022816181183)",
          "(0.0, 0.002411165740340948)",
          "(0.0, 0.0025875242426991463)",
          "(0.0, 0.0026275389827787876)",
          "(0.0, 0.002734096022322774)",
          "(0.0, 0.0030144674237817526)",
          "(0.0, 0.0031174696050584316)",
          "(0.0, 0.003127794712781906)",
          "(0.0, 0.0031324217561632395)",
          "(0.0, 0.0031409061048179865)",
          "(0.0, 0.00328773888759315)",
          "(0.0, 0.0033823219127953053)",
          "(0.0, 0.0035183613654226065)",
          "(0.0, 0.0035551488399505615)",
          "(0.0, 0.0037597259506583214)",
          "(0.0, 0.0037979865446686745)",
          "(0.0, 0.004056843928992748)",
          "(0.0, 0.004340573213994503)",
          "(0.0, 0.00439556036144495)",
          "(0.0, 0.004451522137969732)",
          "(0.0, 0.004476127680391073)",
          "(0.0, 0.004491040483117104)",
          "(0.0, 0.004535009618848562)",
          "(0.0, 0.004571369383484125)",
          "(0.0, 0.004622182343155146)",
          "(0.0, 0.004701072815805674)",
          "(0.0, 0.004828277043998241)",
          "(0.0, 0.00494379410520196)",
          "(0.0, 0.005025969818234444)",
          "(0.0, 0.005253528244793415)",
          "(0.0, 0.0053683556616306305)",
          "(0.0, 0.005459603387862444)",
          "(0.0, 0.005478755105286837)",
          "(0.0, 0.005689927376806736)",
          "(0.0, 0.005770508665591478)",
          "(0.0, 0.006038588471710682)",
          "(0.0, 0.0062922160141170025)",
          "(0.0, 0.006308806594461203)",
          "(0.0, 0.006392861250787973)",
          "(0.0, 0.00640843203291297)",
          "(0.0, 0.006533929146826267)",
          "(0.0, 0.006683502811938524)",
          "(0.0, 0.0067057074047625065)",
          "(0.0, 0.006711182650178671)",
          "(0.0, 0.00677115935832262)",
          "(0.0, 0.006900854408740997)",
          "(0.0, 0.007040165830403566)",
          "(0.0, 0.007194749545305967)",
          "(0.0, 0.007235187571495771)",
          "(0.0, 0.007241360377520323)",
          "(0.0, 0.007326828315854073)",
          "(0.0, 0.007389737758785486)",
          "(0.0, 0.007552583701908588)",
          "(0.0, 0.007560796570032835)",
          "(0.0, 0.007562993559986353)",
          "(0.0, 0.007650221232324839)",
          "(0.0, 0.007663230877369642)",
          "(0.0, 0.007680636830627918)",
          "(0.0, 0.007755746133625507)",
          "(0.0, 0.00781311932951212)",
          "(0.0, 0.00824851542711258)",
          "(0.0, 0.008261865936219692)",
          "(0.0, 0.008275163359940052)",
          "(0.0, 0.008368933573365211)",
          "(0.0, 0.008756028488278389)",
          "(0.0, 0.008777706883847713)",
          "(0.0, 0.008827160112559795)",
          "(0.0, 0.009040307253599167)",
          "(0.0, 0.009122773073613644)",
          "(0.0, 0.009127531200647354)",
          "(0.0, 0.009184864349663258)",
          "(0.0, 0.009526974521577358)",
          "(0.0, 0.00980313029140234)",
          "(0.0, 0.01006094366312027)",
          "(0.0, 0.010071083903312683)",
          "(0.0, 0.010112971998751163)",
          "(0.0, 0.010210827924311161)",
          "(0.0, 0.010632917284965515)",
          "(0.0, 0.010694410651922226)",
          "(0.0, 0.010834697633981705)",
          "(0.0, 0.01093940157443285)",
          "(0.0, 0.010954911820590496)",
          "(0.0, 0.010964549146592617)",
          "(0.0, 0.011148685589432716)",
          "(0.0, 0.011164580471813679)",
          "(0.0, 0.01137746125459671)",
          "(0.0, 0.011540592648088932)",
          "(0.0, 0.01168961450457573)",
          "(0.0, 0.011775805614888668)",
          "(0.0, 0.01223926804959774)",
          "(0.0, 0.012254559434950352)",
          "(0.0, 0.012284100987017155)",
          "(0.0, 0.012296771630644798)",
          "(0.0, 0.012434626929461956)",
          "(0.0, 0.012746647000312805)",
          "(0.0, 0.013158035464584827)",
          "(0.0, 0.013370825909078121)",
          "(0.0, 0.013457555323839188)",
          "(0.0, 0.01346778403967619)",
          "(0.0, 0.013680541887879372)",
          "(0.0, 0.013807346113026142)",
          "(0.0, 0.014320877380669117)",
          "(0.0, 0.01487908698618412)",
          "(0.0, 0.014902750961482525)",
          "(0.0, 0.015471416525542736)",
          "(0.0, 0.015506409108638763)",
          "(0.0, 0.015646077692508698)",
          "(0.0, 0.015962446108460426)",
          "(0.0, 0.0159897543489933)",
          "(0.0, 0.016540518030524254)",
          "(0.0, 0.017370762303471565)",
          "(0.0, 0.01743363030254841)",
          "(0.0, 0.017670676112174988)",
          "(0.0, 0.017751775681972504)",
          "(0.0, 0.01801648549735546)",
          "(0.0, 0.018060356378555298)",
          "(0.0, 0.018149178475141525)",
          "(0.0, 0.018315479159355164)",
          "(0.0, 0.018326612189412117)",
          "(0.0, 0.018936222419142723)",
          "(0.0, 0.01967586576938629)",
          "(0.0, 0.019885584712028503)",
          "(0.0, 0.01989802159368992)",
          "(0.0, 0.020008830353617668)",
          "(0.0, 0.020235177129507065)",
          "(0.0, 0.020725354552268982)",
          "(0.0, 0.021175198256969452)",
          "(0.0, 0.021204330027103424)",
          "(0.0, 0.021407000720500946)",
          "(0.0, 0.022143159061670303)",
          "(0.0, 0.022689558565616608)",
          "(0.0, 0.022934379056096077)",
          "(0.0, 0.02374214120209217)",
          "(0.0, 0.02415209636092186)",
          "(0.0, 0.024247605353593826)",
          "(0.0, 0.025336625054478645)",
          "(0.0, 0.026170440018177032)",
          "(0.0, 0.026191651821136475)",
          "(0.0, 0.026803033426404)",
          "(0.0, 0.027048947289586067)",
          "(0.0, 0.027161169797182083)",
          "(0.0, 0.027256496250629425)",
          "(0.0, 0.02801470085978508)",
          "(0.0, 0.029172396287322044)",
          "(0.0, 0.030098814517259598)",
          "(0.0, 0.031940702348947525)",
          "(0.0, 0.032242242246866226)",
          "(0.0, 0.03539795055985451)",
          "(0.0, 0.03548402711749077)",
          "(0.0, 0.037831585854291916)",
          "(0.0, 0.06007020175457001)",
          "(0.0, 0.06238577142357826)",
          "(0.0, 0.0626240149140358)",
          "(0.0, 0.06405004113912582)",
          "(0.0, 0.08028095215559006)",
          "(0.0, 0.08806312829256058)",
          "(0.0, 0.09849128872156143)",
          "(0.0, 0.10544594377279282)",
          "(0.0, 0.11251344531774521)",
          "(0.0, 0.11816839873790741)",
          "(0.0, 0.13147521018981934)",
          "(0.0, 0.13613565266132355)",
          "(0.0, 0.1844760775566101)",
          "(0.0, 0.19210191071033478)",
          "(0.0, 0.20072101056575775)",
          "(0.0, 0.20112334191799164)",
          "(0.0, 0.2306877076625824)"
         ],
         "mode": "markers",
         "name": "H0",
         "type": "scatter",
         "x": [
          0,
          0,
          0,
          0,
          0,
          0,
          0,
          0,
          0,
          0,
          0,
          0,
          0,
          0,
          0,
          0,
          0,
          0,
          0,
          0,
          0,
          0,
          0,
          0,
          0,
          0,
          0,
          0,
          0,
          0,
          0,
          0,
          0,
          0,
          0,
          0,
          0,
          0,
          0,
          0,
          0,
          0,
          0,
          0,
          0,
          0,
          0,
          0,
          0,
          0,
          0,
          0,
          0,
          0,
          0,
          0,
          0,
          0,
          0,
          0,
          0,
          0,
          0,
          0,
          0,
          0,
          0,
          0,
          0,
          0,
          0,
          0,
          0,
          0,
          0,
          0,
          0,
          0,
          0,
          0,
          0,
          0,
          0,
          0,
          0,
          0,
          0,
          0,
          0,
          0,
          0,
          0,
          0,
          0,
          0,
          0,
          0,
          0,
          0,
          0,
          0,
          0,
          0,
          0,
          0,
          0,
          0,
          0,
          0,
          0,
          0,
          0,
          0,
          0,
          0,
          0,
          0,
          0,
          0,
          0,
          0,
          0,
          0,
          0,
          0,
          0,
          0,
          0,
          0,
          0,
          0,
          0,
          0,
          0,
          0,
          0,
          0,
          0,
          0,
          0,
          0,
          0,
          0,
          0,
          0,
          0,
          0,
          0,
          0,
          0,
          0,
          0,
          0,
          0,
          0,
          0,
          0,
          0,
          0,
          0,
          0,
          0,
          0,
          0,
          0,
          0,
          0,
          0,
          0,
          0,
          0,
          0,
          0,
          0,
          0,
          0,
          0,
          0,
          0,
          0,
          0,
          0,
          0,
          0,
          0,
          0,
          0,
          0,
          0,
          0,
          0,
          0,
          0,
          0,
          0,
          0,
          0,
          0,
          0,
          0,
          0,
          0,
          0,
          0,
          0,
          0,
          0,
          0,
          0,
          0,
          0,
          0
         ],
         "y": [
          0.00014905454008840024,
          0.00022581423399969935,
          0.0003899969451595098,
          0.0004176847287453711,
          0.0005877817166037858,
          0.0007243042928166687,
          0.0007285982137545943,
          0.0008418102515861392,
          0.0009305367711931467,
          0.0009617444593459368,
          0.0009618193726055324,
          0.0009709913283586502,
          0.0009732152684591711,
          0.0009875629330053926,
          0.0009979312308132648,
          0.0009982886258512735,
          0.0010094658937305212,
          0.0010347103234380484,
          0.0010379638988524675,
          0.0010487409308552742,
          0.001061307149939239,
          0.0010855771834030747,
          0.0010872556595131755,
          0.0010918914340436459,
          0.001095304382033646,
          0.0011105032172054052,
          0.0011120203416794538,
          0.0011292229173704982,
          0.0011304791551083326,
          0.0011421730741858482,
          0.001142504857853055,
          0.0011486811563372612,
          0.0011487026931717992,
          0.0011719379108399153,
          0.001269637024961412,
          0.0013809386873617768,
          0.0013897801982238889,
          0.001535989111289382,
          0.001573079265654087,
          0.001664528506807983,
          0.0017025151755660772,
          0.0017167811747640371,
          0.0019133726600557566,
          0.001945669879205525,
          0.0020975740626454353,
          0.0022413022816181183,
          0.002411165740340948,
          0.0025875242426991463,
          0.0026275389827787876,
          0.002734096022322774,
          0.0030144674237817526,
          0.0031174696050584316,
          0.003127794712781906,
          0.0031324217561632395,
          0.0031409061048179865,
          0.00328773888759315,
          0.0033823219127953053,
          0.0035183613654226065,
          0.0035551488399505615,
          0.0037597259506583214,
          0.0037979865446686745,
          0.004056843928992748,
          0.004340573213994503,
          0.00439556036144495,
          0.004451522137969732,
          0.004476127680391073,
          0.004491040483117104,
          0.004535009618848562,
          0.004571369383484125,
          0.004622182343155146,
          0.004701072815805674,
          0.004828277043998241,
          0.00494379410520196,
          0.005025969818234444,
          0.005253528244793415,
          0.0053683556616306305,
          0.005459603387862444,
          0.005478755105286837,
          0.005689927376806736,
          0.005770508665591478,
          0.006038588471710682,
          0.0062922160141170025,
          0.006308806594461203,
          0.006392861250787973,
          0.00640843203291297,
          0.006533929146826267,
          0.006683502811938524,
          0.0067057074047625065,
          0.006711182650178671,
          0.00677115935832262,
          0.006900854408740997,
          0.007040165830403566,
          0.007194749545305967,
          0.007235187571495771,
          0.007241360377520323,
          0.007326828315854073,
          0.007389737758785486,
          0.007552583701908588,
          0.007560796570032835,
          0.007562993559986353,
          0.007650221232324839,
          0.007663230877369642,
          0.007680636830627918,
          0.007755746133625507,
          0.00781311932951212,
          0.00824851542711258,
          0.008261865936219692,
          0.008275163359940052,
          0.008368933573365211,
          0.008756028488278389,
          0.008777706883847713,
          0.008827160112559795,
          0.009040307253599167,
          0.009122773073613644,
          0.009127531200647354,
          0.009184864349663258,
          0.009526974521577358,
          0.00980313029140234,
          0.01006094366312027,
          0.010071083903312683,
          0.010112971998751163,
          0.010210827924311161,
          0.010632917284965515,
          0.010694410651922226,
          0.010834697633981705,
          0.01093940157443285,
          0.010954911820590496,
          0.010964549146592617,
          0.011148685589432716,
          0.011164580471813679,
          0.01137746125459671,
          0.011540592648088932,
          0.01168961450457573,
          0.011775805614888668,
          0.01223926804959774,
          0.012254559434950352,
          0.012284100987017155,
          0.012296771630644798,
          0.012434626929461956,
          0.012746647000312805,
          0.013158035464584827,
          0.013370825909078121,
          0.013457555323839188,
          0.01346778403967619,
          0.013680541887879372,
          0.013807346113026142,
          0.014320877380669117,
          0.01487908698618412,
          0.014902750961482525,
          0.015471416525542736,
          0.015506409108638763,
          0.015646077692508698,
          0.015962446108460426,
          0.0159897543489933,
          0.016540518030524254,
          0.017370762303471565,
          0.01743363030254841,
          0.017670676112174988,
          0.017751775681972504,
          0.01801648549735546,
          0.018060356378555298,
          0.018149178475141525,
          0.018315479159355164,
          0.018326612189412117,
          0.018936222419142723,
          0.01967586576938629,
          0.019885584712028503,
          0.01989802159368992,
          0.020008830353617668,
          0.020235177129507065,
          0.020725354552268982,
          0.021175198256969452,
          0.021204330027103424,
          0.021407000720500946,
          0.022143159061670303,
          0.022689558565616608,
          0.022934379056096077,
          0.02374214120209217,
          0.02415209636092186,
          0.024247605353593826,
          0.025336625054478645,
          0.026170440018177032,
          0.026191651821136475,
          0.026803033426404,
          0.027048947289586067,
          0.027161169797182083,
          0.027256496250629425,
          0.02801470085978508,
          0.029172396287322044,
          0.030098814517259598,
          0.031940702348947525,
          0.032242242246866226,
          0.03539795055985451,
          0.03548402711749077,
          0.037831585854291916,
          0.06007020175457001,
          0.06238577142357826,
          0.0626240149140358,
          0.06405004113912582,
          0.08028095215559006,
          0.08806312829256058,
          0.09849128872156143,
          0.10544594377279282,
          0.11251344531774521,
          0.11816839873790741,
          0.13147521018981934,
          0.13613565266132355,
          0.1844760775566101,
          0.19210191071033478,
          0.20072101056575775,
          0.20112334191799164,
          0.2306877076625824
         ]
        },
        {
         "hoverinfo": "text",
         "hovertext": [
          "(0.24390853941440582, 0.31959033012390137)",
          "(0.22296667098999023, 0.26711171865463257)",
          "(0.16688473522663116, 0.1777677834033966)",
          "(0.04078579694032669, 0.04939110204577446)",
          "(0.039378147572278976, 0.050213202834129333)",
          "(0.02530309371650219, 0.027247736230492592)",
          "(0.02517257072031498, 0.026531457901000977)",
          "(0.025081317871809006, 0.02615424245595932)",
          "(0.024695999920368195, 0.029046619310975075)",
          "(0.024568898603320122, 0.026797274127602577)",
          "(0.023504532873630524, 0.026429709047079086)",
          "(0.022869495674967766, 0.028280936181545258)",
          "(0.022610979154706, 0.02581886015832424)",
          "(0.02210376411676407, 0.02357117086648941)",
          "(0.02185838110744953, 0.021912695840001106)",
          "(0.02177511155605316, 0.02510782517492771)",
          "(0.02128882147371769, 0.028552329167723656)",
          "(0.020476948469877243, 0.024893051013350487)",
          "(0.020465387031435966, 0.020539961755275726)",
          "(0.020099807530641556, 0.024299848824739456)",
          "(0.019191548228263855, 0.02064274623990059)",
          "(0.017019562423229218, 0.02001899667084217)",
          "(0.013977501541376114, 0.014417343772947788)",
          "(0.01338118128478527, 0.014962293207645416)",
          "(0.01296930480748415, 0.014514196664094925)",
          "(0.012126169167459011, 0.015363254584372044)",
          "(0.011772495694458485, 0.015823060646653175)",
          "(0.011552426964044571, 0.013523243367671967)",
          "(0.011145018972456455, 0.01614174246788025)",
          "(0.010950698517262936, 0.01241118460893631)",
          "(0.01065931748598814, 0.013325166888535023)",
          "(0.010502476245164871, 0.011234083212912083)",
          "(0.009247099049389362, 0.009267216548323631)",
          "(0.0015667807310819626, 0.001678417669609189)",
          "(0.0011168094351887703, 0.0011535790981724858)",
          "(0.0007763851317577064, 0.0008641359163448215)"
         ],
         "mode": "markers",
         "name": "H1",
         "type": "scatter",
         "x": [
          0.24390853941440582,
          0.22296667098999023,
          0.16688473522663116,
          0.04078579694032669,
          0.039378147572278976,
          0.02530309371650219,
          0.02517257072031498,
          0.025081317871809006,
          0.024695999920368195,
          0.024568898603320122,
          0.023504532873630524,
          0.022869495674967766,
          0.022610979154706,
          0.02210376411676407,
          0.02185838110744953,
          0.02177511155605316,
          0.02128882147371769,
          0.020476948469877243,
          0.020465387031435966,
          0.020099807530641556,
          0.019191548228263855,
          0.017019562423229218,
          0.013977501541376114,
          0.01338118128478527,
          0.01296930480748415,
          0.012126169167459011,
          0.011772495694458485,
          0.011552426964044571,
          0.011145018972456455,
          0.010950698517262936,
          0.01065931748598814,
          0.010502476245164871,
          0.009247099049389362,
          0.0015667807310819626,
          0.0011168094351887703,
          0.0007763851317577064
         ],
         "y": [
          0.31959033012390137,
          0.26711171865463257,
          0.1777677834033966,
          0.04939110204577446,
          0.050213202834129333,
          0.027247736230492592,
          0.026531457901000977,
          0.02615424245595932,
          0.029046619310975075,
          0.026797274127602577,
          0.026429709047079086,
          0.028280936181545258,
          0.02581886015832424,
          0.02357117086648941,
          0.021912695840001106,
          0.02510782517492771,
          0.028552329167723656,
          0.024893051013350487,
          0.020539961755275726,
          0.024299848824739456,
          0.02064274623990059,
          0.02001899667084217,
          0.014417343772947788,
          0.014962293207645416,
          0.014514196664094925,
          0.015363254584372044,
          0.015823060646653175,
          0.013523243367671967,
          0.01614174246788025,
          0.01241118460893631,
          0.013325166888535023,
          0.011234083212912083,
          0.009267216548323631,
          0.001678417669609189,
          0.0011535790981724858,
          0.0008641359163448215
         ]
        }
       ],
       "layout": {
        "height": 500,
        "plot_bgcolor": "white",
        "template": {
         "data": {
          "bar": [
           {
            "error_x": {
             "color": "#2a3f5f"
            },
            "error_y": {
             "color": "#2a3f5f"
            },
            "marker": {
             "line": {
              "color": "#E5ECF6",
              "width": 0.5
             },
             "pattern": {
              "fillmode": "overlay",
              "size": 10,
              "solidity": 0.2
             }
            },
            "type": "bar"
           }
          ],
          "barpolar": [
           {
            "marker": {
             "line": {
              "color": "#E5ECF6",
              "width": 0.5
             },
             "pattern": {
              "fillmode": "overlay",
              "size": 10,
              "solidity": 0.2
             }
            },
            "type": "barpolar"
           }
          ],
          "carpet": [
           {
            "aaxis": {
             "endlinecolor": "#2a3f5f",
             "gridcolor": "white",
             "linecolor": "white",
             "minorgridcolor": "white",
             "startlinecolor": "#2a3f5f"
            },
            "baxis": {
             "endlinecolor": "#2a3f5f",
             "gridcolor": "white",
             "linecolor": "white",
             "minorgridcolor": "white",
             "startlinecolor": "#2a3f5f"
            },
            "type": "carpet"
           }
          ],
          "choropleth": [
           {
            "colorbar": {
             "outlinewidth": 0,
             "ticks": ""
            },
            "type": "choropleth"
           }
          ],
          "contour": [
           {
            "colorbar": {
             "outlinewidth": 0,
             "ticks": ""
            },
            "colorscale": [
             [
              0,
              "#0d0887"
             ],
             [
              0.1111111111111111,
              "#46039f"
             ],
             [
              0.2222222222222222,
              "#7201a8"
             ],
             [
              0.3333333333333333,
              "#9c179e"
             ],
             [
              0.4444444444444444,
              "#bd3786"
             ],
             [
              0.5555555555555556,
              "#d8576b"
             ],
             [
              0.6666666666666666,
              "#ed7953"
             ],
             [
              0.7777777777777778,
              "#fb9f3a"
             ],
             [
              0.8888888888888888,
              "#fdca26"
             ],
             [
              1,
              "#f0f921"
             ]
            ],
            "type": "contour"
           }
          ],
          "contourcarpet": [
           {
            "colorbar": {
             "outlinewidth": 0,
             "ticks": ""
            },
            "type": "contourcarpet"
           }
          ],
          "heatmap": [
           {
            "colorbar": {
             "outlinewidth": 0,
             "ticks": ""
            },
            "colorscale": [
             [
              0,
              "#0d0887"
             ],
             [
              0.1111111111111111,
              "#46039f"
             ],
             [
              0.2222222222222222,
              "#7201a8"
             ],
             [
              0.3333333333333333,
              "#9c179e"
             ],
             [
              0.4444444444444444,
              "#bd3786"
             ],
             [
              0.5555555555555556,
              "#d8576b"
             ],
             [
              0.6666666666666666,
              "#ed7953"
             ],
             [
              0.7777777777777778,
              "#fb9f3a"
             ],
             [
              0.8888888888888888,
              "#fdca26"
             ],
             [
              1,
              "#f0f921"
             ]
            ],
            "type": "heatmap"
           }
          ],
          "heatmapgl": [
           {
            "colorbar": {
             "outlinewidth": 0,
             "ticks": ""
            },
            "colorscale": [
             [
              0,
              "#0d0887"
             ],
             [
              0.1111111111111111,
              "#46039f"
             ],
             [
              0.2222222222222222,
              "#7201a8"
             ],
             [
              0.3333333333333333,
              "#9c179e"
             ],
             [
              0.4444444444444444,
              "#bd3786"
             ],
             [
              0.5555555555555556,
              "#d8576b"
             ],
             [
              0.6666666666666666,
              "#ed7953"
             ],
             [
              0.7777777777777778,
              "#fb9f3a"
             ],
             [
              0.8888888888888888,
              "#fdca26"
             ],
             [
              1,
              "#f0f921"
             ]
            ],
            "type": "heatmapgl"
           }
          ],
          "histogram": [
           {
            "marker": {
             "pattern": {
              "fillmode": "overlay",
              "size": 10,
              "solidity": 0.2
             }
            },
            "type": "histogram"
           }
          ],
          "histogram2d": [
           {
            "colorbar": {
             "outlinewidth": 0,
             "ticks": ""
            },
            "colorscale": [
             [
              0,
              "#0d0887"
             ],
             [
              0.1111111111111111,
              "#46039f"
             ],
             [
              0.2222222222222222,
              "#7201a8"
             ],
             [
              0.3333333333333333,
              "#9c179e"
             ],
             [
              0.4444444444444444,
              "#bd3786"
             ],
             [
              0.5555555555555556,
              "#d8576b"
             ],
             [
              0.6666666666666666,
              "#ed7953"
             ],
             [
              0.7777777777777778,
              "#fb9f3a"
             ],
             [
              0.8888888888888888,
              "#fdca26"
             ],
             [
              1,
              "#f0f921"
             ]
            ],
            "type": "histogram2d"
           }
          ],
          "histogram2dcontour": [
           {
            "colorbar": {
             "outlinewidth": 0,
             "ticks": ""
            },
            "colorscale": [
             [
              0,
              "#0d0887"
             ],
             [
              0.1111111111111111,
              "#46039f"
             ],
             [
              0.2222222222222222,
              "#7201a8"
             ],
             [
              0.3333333333333333,
              "#9c179e"
             ],
             [
              0.4444444444444444,
              "#bd3786"
             ],
             [
              0.5555555555555556,
              "#d8576b"
             ],
             [
              0.6666666666666666,
              "#ed7953"
             ],
             [
              0.7777777777777778,
              "#fb9f3a"
             ],
             [
              0.8888888888888888,
              "#fdca26"
             ],
             [
              1,
              "#f0f921"
             ]
            ],
            "type": "histogram2dcontour"
           }
          ],
          "mesh3d": [
           {
            "colorbar": {
             "outlinewidth": 0,
             "ticks": ""
            },
            "type": "mesh3d"
           }
          ],
          "parcoords": [
           {
            "line": {
             "colorbar": {
              "outlinewidth": 0,
              "ticks": ""
             }
            },
            "type": "parcoords"
           }
          ],
          "pie": [
           {
            "automargin": true,
            "type": "pie"
           }
          ],
          "scatter": [
           {
            "marker": {
             "colorbar": {
              "outlinewidth": 0,
              "ticks": ""
             }
            },
            "type": "scatter"
           }
          ],
          "scatter3d": [
           {
            "line": {
             "colorbar": {
              "outlinewidth": 0,
              "ticks": ""
             }
            },
            "marker": {
             "colorbar": {
              "outlinewidth": 0,
              "ticks": ""
             }
            },
            "type": "scatter3d"
           }
          ],
          "scattercarpet": [
           {
            "marker": {
             "colorbar": {
              "outlinewidth": 0,
              "ticks": ""
             }
            },
            "type": "scattercarpet"
           }
          ],
          "scattergeo": [
           {
            "marker": {
             "colorbar": {
              "outlinewidth": 0,
              "ticks": ""
             }
            },
            "type": "scattergeo"
           }
          ],
          "scattergl": [
           {
            "marker": {
             "colorbar": {
              "outlinewidth": 0,
              "ticks": ""
             }
            },
            "type": "scattergl"
           }
          ],
          "scattermapbox": [
           {
            "marker": {
             "colorbar": {
              "outlinewidth": 0,
              "ticks": ""
             }
            },
            "type": "scattermapbox"
           }
          ],
          "scatterpolar": [
           {
            "marker": {
             "colorbar": {
              "outlinewidth": 0,
              "ticks": ""
             }
            },
            "type": "scatterpolar"
           }
          ],
          "scatterpolargl": [
           {
            "marker": {
             "colorbar": {
              "outlinewidth": 0,
              "ticks": ""
             }
            },
            "type": "scatterpolargl"
           }
          ],
          "scatterternary": [
           {
            "marker": {
             "colorbar": {
              "outlinewidth": 0,
              "ticks": ""
             }
            },
            "type": "scatterternary"
           }
          ],
          "surface": [
           {
            "colorbar": {
             "outlinewidth": 0,
             "ticks": ""
            },
            "colorscale": [
             [
              0,
              "#0d0887"
             ],
             [
              0.1111111111111111,
              "#46039f"
             ],
             [
              0.2222222222222222,
              "#7201a8"
             ],
             [
              0.3333333333333333,
              "#9c179e"
             ],
             [
              0.4444444444444444,
              "#bd3786"
             ],
             [
              0.5555555555555556,
              "#d8576b"
             ],
             [
              0.6666666666666666,
              "#ed7953"
             ],
             [
              0.7777777777777778,
              "#fb9f3a"
             ],
             [
              0.8888888888888888,
              "#fdca26"
             ],
             [
              1,
              "#f0f921"
             ]
            ],
            "type": "surface"
           }
          ],
          "table": [
           {
            "cells": {
             "fill": {
              "color": "#EBF0F8"
             },
             "line": {
              "color": "white"
             }
            },
            "header": {
             "fill": {
              "color": "#C8D4E3"
             },
             "line": {
              "color": "white"
             }
            },
            "type": "table"
           }
          ]
         },
         "layout": {
          "annotationdefaults": {
           "arrowcolor": "#2a3f5f",
           "arrowhead": 0,
           "arrowwidth": 1
          },
          "autotypenumbers": "strict",
          "coloraxis": {
           "colorbar": {
            "outlinewidth": 0,
            "ticks": ""
           }
          },
          "colorscale": {
           "diverging": [
            [
             0,
             "#8e0152"
            ],
            [
             0.1,
             "#c51b7d"
            ],
            [
             0.2,
             "#de77ae"
            ],
            [
             0.3,
             "#f1b6da"
            ],
            [
             0.4,
             "#fde0ef"
            ],
            [
             0.5,
             "#f7f7f7"
            ],
            [
             0.6,
             "#e6f5d0"
            ],
            [
             0.7,
             "#b8e186"
            ],
            [
             0.8,
             "#7fbc41"
            ],
            [
             0.9,
             "#4d9221"
            ],
            [
             1,
             "#276419"
            ]
           ],
           "sequential": [
            [
             0,
             "#0d0887"
            ],
            [
             0.1111111111111111,
             "#46039f"
            ],
            [
             0.2222222222222222,
             "#7201a8"
            ],
            [
             0.3333333333333333,
             "#9c179e"
            ],
            [
             0.4444444444444444,
             "#bd3786"
            ],
            [
             0.5555555555555556,
             "#d8576b"
            ],
            [
             0.6666666666666666,
             "#ed7953"
            ],
            [
             0.7777777777777778,
             "#fb9f3a"
            ],
            [
             0.8888888888888888,
             "#fdca26"
            ],
            [
             1,
             "#f0f921"
            ]
           ],
           "sequentialminus": [
            [
             0,
             "#0d0887"
            ],
            [
             0.1111111111111111,
             "#46039f"
            ],
            [
             0.2222222222222222,
             "#7201a8"
            ],
            [
             0.3333333333333333,
             "#9c179e"
            ],
            [
             0.4444444444444444,
             "#bd3786"
            ],
            [
             0.5555555555555556,
             "#d8576b"
            ],
            [
             0.6666666666666666,
             "#ed7953"
            ],
            [
             0.7777777777777778,
             "#fb9f3a"
            ],
            [
             0.8888888888888888,
             "#fdca26"
            ],
            [
             1,
             "#f0f921"
            ]
           ]
          },
          "colorway": [
           "#636efa",
           "#EF553B",
           "#00cc96",
           "#ab63fa",
           "#FFA15A",
           "#19d3f3",
           "#FF6692",
           "#B6E880",
           "#FF97FF",
           "#FECB52"
          ],
          "font": {
           "color": "#2a3f5f"
          },
          "geo": {
           "bgcolor": "white",
           "lakecolor": "white",
           "landcolor": "#E5ECF6",
           "showlakes": true,
           "showland": true,
           "subunitcolor": "white"
          },
          "hoverlabel": {
           "align": "left"
          },
          "hovermode": "closest",
          "mapbox": {
           "style": "light"
          },
          "paper_bgcolor": "white",
          "plot_bgcolor": "#E5ECF6",
          "polar": {
           "angularaxis": {
            "gridcolor": "white",
            "linecolor": "white",
            "ticks": ""
           },
           "bgcolor": "#E5ECF6",
           "radialaxis": {
            "gridcolor": "white",
            "linecolor": "white",
            "ticks": ""
           }
          },
          "scene": {
           "xaxis": {
            "backgroundcolor": "#E5ECF6",
            "gridcolor": "white",
            "gridwidth": 2,
            "linecolor": "white",
            "showbackground": true,
            "ticks": "",
            "zerolinecolor": "white"
           },
           "yaxis": {
            "backgroundcolor": "#E5ECF6",
            "gridcolor": "white",
            "gridwidth": 2,
            "linecolor": "white",
            "showbackground": true,
            "ticks": "",
            "zerolinecolor": "white"
           },
           "zaxis": {
            "backgroundcolor": "#E5ECF6",
            "gridcolor": "white",
            "gridwidth": 2,
            "linecolor": "white",
            "showbackground": true,
            "ticks": "",
            "zerolinecolor": "white"
           }
          },
          "shapedefaults": {
           "line": {
            "color": "#2a3f5f"
           }
          },
          "ternary": {
           "aaxis": {
            "gridcolor": "white",
            "linecolor": "white",
            "ticks": ""
           },
           "baxis": {
            "gridcolor": "white",
            "linecolor": "white",
            "ticks": ""
           },
           "bgcolor": "#E5ECF6",
           "caxis": {
            "gridcolor": "white",
            "linecolor": "white",
            "ticks": ""
           }
          },
          "title": {
           "x": 0.05
          },
          "xaxis": {
           "automargin": true,
           "gridcolor": "white",
           "linecolor": "white",
           "ticks": "",
           "title": {
            "standoff": 15
           },
           "zerolinecolor": "white",
           "zerolinewidth": 2
          },
          "yaxis": {
           "automargin": true,
           "gridcolor": "white",
           "linecolor": "white",
           "ticks": "",
           "title": {
            "standoff": 15
           },
           "zerolinecolor": "white",
           "zerolinewidth": 2
          }
         }
        },
        "width": 500,
        "xaxis": {
         "autorange": false,
         "exponentformat": "e",
         "linecolor": "black",
         "linewidth": 1,
         "mirror": false,
         "range": [
          -0.006391806602478027,
          0.3259821367263794
         ],
         "showexponent": "all",
         "showline": true,
         "side": "bottom",
         "ticks": "outside",
         "title": {
          "text": "Birth"
         },
         "type": "linear",
         "zeroline": true
        },
        "yaxis": {
         "autorange": false,
         "exponentformat": "e",
         "linecolor": "black",
         "linewidth": 1,
         "mirror": false,
         "range": [
          -0.006391806602478027,
          0.3259821367263794
         ],
         "scaleanchor": "x",
         "scaleratio": 1,
         "showexponent": "all",
         "showline": true,
         "side": "left",
         "ticks": "outside",
         "title": {
          "text": "Death"
         },
         "type": "linear",
         "zeroline": true
        }
       }
      }
     },
     "metadata": {},
     "output_type": "display_data"
    }
   ],
   "source": [
    "# ------------------------------------\n",
    "# Display one persistence diagram only\n",
    "# ------------------------------------\n",
    "from gtda.plotting import plot_diagram\n",
    "\n",
    "i = 0\n",
    "plot_diagram(diagrams[i])"
   ]
  },
  {
   "cell_type": "code",
   "execution_count": 262,
   "metadata": {},
   "outputs": [],
   "source": [
    "#----------------------------------------------------------\n",
    "# Compute the distance matrix and store them in a dataframe\n",
    "#----------------------------------------------------------\n",
    "from x04_tda_distances import *\n",
    "\n",
    "dst_mtrx = DistanceMatrix()\n",
    "pw_dst_lst = []\n",
    "df_dst_lst = []\n",
    "for idx in range(0, len(metric_lst)):\n",
    "    pw_dst, df_dst = dst_mtrx.compute_pw_distance(metric_lst[idx], diagrams)\n",
    "    pw_dst_lst.append(pw_dst)\n",
    "    df_dst_lst.append(df_dst)"
   ]
  },
  {
   "cell_type": "code",
   "execution_count": 263,
   "metadata": {},
   "outputs": [
    {
     "data": {
      "image/png": "[encoded data removed]",
      "text/plain": [
       "<Figure size 1728x576 with 6 Axes>"
      ]
     },
     "metadata": {
      "needs_background": "light"
     },
     "output_type": "display_data"
    }
   ],
   "source": [
    "#----------------------------------------------------------\n",
    "# Plot all distances to check for anomalies in consumption\n",
    "#----------------------------------------------------------\n",
    "nbr_of_cols = 3\n",
    "\n",
    "if int(len(metric_lst) / nbr_of_cols) == len(metric_lst) / nbr_of_cols:\n",
    "    nbr_of_rows = int(len(metric_lst) / nbr_of_cols)\n",
    "else:\n",
    "    nbr_of_rows = int(len(metric_lst) / nbr_of_cols) + 1\n",
    "\n",
    "fig, axs = plt.subplots(nbr_of_rows, nbr_of_cols, figsize=(24, 8))\n",
    "fig.suptitle('Distancias Basadas en los Diagramas PH con Detección de Anomalías', fontsize=18)\n",
    "axs[1, 1].set_xlabel(bottom_title, fontsize=18)\n",
    "\n",
    "red_lst = []\n",
    "row = -1\n",
    "col = 0\n",
    "for idx in range(0, len(metric_lst)):\n",
    "    col = idx % nbr_of_cols\n",
    "    if col == 0: row += 1\n",
    "    g = df_dst_lst[idx]\n",
    "\n",
    "    avg_sum = df_dst_lst[idx].sum() / 30\n",
    "    avg_sum = avg_sum /np.max(avg_sum)\n",
    "\n",
    "    if idx == 3:\n",
    "        l_sum = avg_sum\n",
    "\n",
    "    dst_mean = np.round(np.mean(avg_sum), 2)\n",
    "    dst_std = np.round(np.std(avg_sum), 2)\n",
    "    #print(metric_lst[idx], dst_mean, dst_std)\n",
    "\n",
    "    red_lst.append(np.argwhere(avg_sum.values > (dst_mean + (2*dst_std))))\n",
    "\n",
    "    axs[row, col].set_title(metric_lst[idx].capitalize(), fontsize=18)\n",
    "    axs[row, col].set_ylabel('Dist. media ' + metric_lst[idx], fontsize=18)\n",
    "    #axs[row, col].bar(g.columns, g.sum() / 30, color='black', alpha=.7)\n",
    "    axs[row, col].bar(g.columns, avg_sum, color='black', alpha=.7)\n",
    "\n",
    "for idx in range(0, len(red_lst)):\n",
    "    for red_arg in red_lst[idx]:\n",
    "        col = idx % 3\n",
    "        if idx > 2:\n",
    "            row = 1\n",
    "        else:\n",
    "            row = 0\n",
    "        axs[row, col].get_children()[red_arg[0]].set_color('red')"
   ]
  }
 ],
 "metadata": {
  "interpreter": {
   "hash": "c394e43c4c07695b1448913565c8285713ffff47ef383798434eb1996a1a819c"
  },
  "kernelspec": {
   "display_name": "Python 3.9.7 ('base')",
   "language": "python",
   "name": "python3"
  },
  "language_info": {
   "codemirror_mode": {
    "name": "ipython",
    "version": 3
   },
   "file_extension": ".py",
   "mimetype": "text/x-python",
   "name": "python",
   "nbconvert_exporter": "python",
   "pygments_lexer": "ipython3",
   "version": "3.9.7"
  },
  "orig_nbformat": 4
 },
 "nbformat": 4,
 "nbformat_minor": 2
}
